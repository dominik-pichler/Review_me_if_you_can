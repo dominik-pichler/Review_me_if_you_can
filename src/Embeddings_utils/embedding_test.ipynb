{
 "cells": [
  {
   "cell_type": "code",
   "id": "initial_id",
   "metadata": {
    "collapsed": true,
    "ExecuteTime": {
     "end_time": "2024-10-12T16:44:27.995318Z",
     "start_time": "2024-10-12T16:44:26.798426Z"
    }
   },
   "source": [
    "import pandas as pd\n",
    "\n",
    "# Define the subjects, predicates, and objects\n",
    "subjects =   ['Alice', 'Bob', 'Charlie', 'David', 'Eve', 'Alice', 'Bob', 'Bob', 'David','Eve', 'Frank']\n",
    "predicates = ['like', 'like', 'like', 'like', 'like', 'has', 'has', 'has', 'has', 'has',  'has']\n",
    "objects =    ['movie', 'movie', 'movie', 'music', 'music', 'cat', 'cat', 'dog', 'dog', 'dog', 'dog']\n",
    "\n",
    "# Create a dataframe\n",
    "df = pd.DataFrame({'subject': subjects, 'predicate': predicates, 'object': objects})\n",
    "df.to_csv('train_TransE.tsv', sep='\\t', index=False, header=False)\n",
    "\n",
    "df"
   ],
   "outputs": [
    {
     "data": {
      "text/plain": [
       "    subject predicate object\n",
       "0     Alice      like  movie\n",
       "1       Bob      like  movie\n",
       "2   Charlie      like  movie\n",
       "3     David      like  music\n",
       "4       Eve      like  music\n",
       "5     Alice       has    cat\n",
       "6       Bob       has    cat\n",
       "7       Bob       has    dog\n",
       "8     David       has    dog\n",
       "9       Eve       has    dog\n",
       "10    Frank       has    dog"
      ],
      "text/html": [
       "<div>\n",
       "<style scoped>\n",
       "    .dataframe tbody tr th:only-of-type {\n",
       "        vertical-align: middle;\n",
       "    }\n",
       "\n",
       "    .dataframe tbody tr th {\n",
       "        vertical-align: top;\n",
       "    }\n",
       "\n",
       "    .dataframe thead th {\n",
       "        text-align: right;\n",
       "    }\n",
       "</style>\n",
       "<table border=\"1\" class=\"dataframe\">\n",
       "  <thead>\n",
       "    <tr style=\"text-align: right;\">\n",
       "      <th></th>\n",
       "      <th>subject</th>\n",
       "      <th>predicate</th>\n",
       "      <th>object</th>\n",
       "    </tr>\n",
       "  </thead>\n",
       "  <tbody>\n",
       "    <tr>\n",
       "      <th>0</th>\n",
       "      <td>Alice</td>\n",
       "      <td>like</td>\n",
       "      <td>movie</td>\n",
       "    </tr>\n",
       "    <tr>\n",
       "      <th>1</th>\n",
       "      <td>Bob</td>\n",
       "      <td>like</td>\n",
       "      <td>movie</td>\n",
       "    </tr>\n",
       "    <tr>\n",
       "      <th>2</th>\n",
       "      <td>Charlie</td>\n",
       "      <td>like</td>\n",
       "      <td>movie</td>\n",
       "    </tr>\n",
       "    <tr>\n",
       "      <th>3</th>\n",
       "      <td>David</td>\n",
       "      <td>like</td>\n",
       "      <td>music</td>\n",
       "    </tr>\n",
       "    <tr>\n",
       "      <th>4</th>\n",
       "      <td>Eve</td>\n",
       "      <td>like</td>\n",
       "      <td>music</td>\n",
       "    </tr>\n",
       "    <tr>\n",
       "      <th>5</th>\n",
       "      <td>Alice</td>\n",
       "      <td>has</td>\n",
       "      <td>cat</td>\n",
       "    </tr>\n",
       "    <tr>\n",
       "      <th>6</th>\n",
       "      <td>Bob</td>\n",
       "      <td>has</td>\n",
       "      <td>cat</td>\n",
       "    </tr>\n",
       "    <tr>\n",
       "      <th>7</th>\n",
       "      <td>Bob</td>\n",
       "      <td>has</td>\n",
       "      <td>dog</td>\n",
       "    </tr>\n",
       "    <tr>\n",
       "      <th>8</th>\n",
       "      <td>David</td>\n",
       "      <td>has</td>\n",
       "      <td>dog</td>\n",
       "    </tr>\n",
       "    <tr>\n",
       "      <th>9</th>\n",
       "      <td>Eve</td>\n",
       "      <td>has</td>\n",
       "      <td>dog</td>\n",
       "    </tr>\n",
       "    <tr>\n",
       "      <th>10</th>\n",
       "      <td>Frank</td>\n",
       "      <td>has</td>\n",
       "      <td>dog</td>\n",
       "    </tr>\n",
       "  </tbody>\n",
       "</table>\n",
       "</div>"
      ]
     },
     "execution_count": 1,
     "metadata": {},
     "output_type": "execute_result"
    }
   ],
   "execution_count": 1
  },
  {
   "metadata": {
    "ExecuteTime": {
     "end_time": "2024-10-12T16:44:37.366196Z",
     "start_time": "2024-10-12T16:44:35.363565Z"
    }
   },
   "cell_type": "code",
   "source": [
    "from pykeen.triples import TriplesFactory\n",
    "\n",
    "# Assuming your dataframe has columns 'subject', 'predicate', 'object'\n",
    "triples_factory = TriplesFactory.from_labeled_triples(\n",
    "    triples=df[['subject', 'predicate', 'object']].values,\n",
    ")\n",
    "\n",
    "training = triples_factory\n",
    "validation = triples_factory\n",
    "testing = triples_factory\n",
    "\n",
    "d=training\n",
    "id_to_entity={v: k for k, v in d.entity_to_id.items()}\n",
    "id_to_relation={v: k for k, v in d.relation_to_id.items()}\n",
    "\n",
    "# Display the first few triples\n",
    "triples_factory.triples"
   ],
   "id": "19db620cbbda88f7",
   "outputs": [
    {
     "name": "stderr",
     "output_type": "stream",
     "text": [
      "Reconstructing all label-based triples. This is expensive and rarely needed.\n"
     ]
    },
    {
     "data": {
      "text/plain": [
       "array([['Alice', 'has', 'cat'],\n",
       "       ['Alice', 'like', 'movie'],\n",
       "       ['Bob', 'has', 'cat'],\n",
       "       ['Bob', 'has', 'dog'],\n",
       "       ['Bob', 'like', 'movie'],\n",
       "       ['Charlie', 'like', 'movie'],\n",
       "       ['David', 'has', 'dog'],\n",
       "       ['David', 'like', 'music'],\n",
       "       ['Eve', 'has', 'dog'],\n",
       "       ['Eve', 'like', 'music'],\n",
       "       ['Frank', 'has', 'dog']], dtype='<U7')"
      ]
     },
     "execution_count": 2,
     "metadata": {},
     "output_type": "execute_result"
    }
   ],
   "execution_count": 2
  },
  {
   "metadata": {
    "ExecuteTime": {
     "end_time": "2024-10-12T16:45:04.142048Z",
     "start_time": "2024-10-12T16:44:54.876278Z"
    }
   },
   "cell_type": "code",
   "source": [
    "from pykeen.pipeline import pipeline\n",
    "\n",
    "\n",
    "\n",
    "result = pipeline(\n",
    "    model='TransE',\n",
    "    loss=\"softplus\",\n",
    "    training=training,\n",
    "    testing=testing,\n",
    "    validation=validation,\n",
    "    model_kwargs=dict(embedding_dim=3),  # Increase the embedding dimension\n",
    "    optimizer_kwargs=dict(lr=0.1),  # Adjust the learning rate\n",
    "    training_kwargs=dict(num_epochs=100, use_tqdm_batch=False),  # Increase the number of epochs\n",
    ")\n",
    "\n",
    "# The trained model is stored in the pipeline result\n",
    "model = result.model"
   ],
   "id": "8d00f39ad07ff75a",
   "outputs": [
    {
     "name": "stderr",
     "output_type": "stream",
     "text": [
      "No random seed is specified. Setting to 632822520.\n",
      "No cuda devices were available. The model runs on CPU\n"
     ]
    },
    {
     "data": {
      "text/plain": [
       "Training epochs on cpu:   0%|          | 0/100 [00:00<?, ?epoch/s]"
      ],
      "application/vnd.jupyter.widget-view+json": {
       "version_major": 2,
       "version_minor": 0,
       "model_id": "4493016749f9472c865089da9b55339e"
      }
     },
     "metadata": {},
     "output_type": "display_data"
    },
    {
     "data": {
      "text/plain": [
       "Evaluating on cpu:   0%|          | 0.00/11.0 [00:00<?, ?triple/s]"
      ],
      "application/vnd.jupyter.widget-view+json": {
       "version_major": 2,
       "version_minor": 0,
       "model_id": "b13004ee4c6f4c41adea4131188ff349"
      }
     },
     "metadata": {},
     "output_type": "display_data"
    },
    {
     "name": "stderr",
     "output_type": "stream",
     "text": [
      "WARNING:torch_max_mem.api:Encountered tensors on device_types={'cpu'} while only ['cuda'] are considered safe for automatic memory utilization maximization. This may lead to undocumented crashes (but can be safe, too).\n",
      "INFO:pykeen.evaluation.evaluator:Evaluation took 0.03s seconds\n"
     ]
    }
   ],
   "execution_count": 3
  },
  {
   "metadata": {
    "ExecuteTime": {
     "end_time": "2024-10-12T16:45:14.512007Z",
     "start_time": "2024-10-12T16:45:14.419062Z"
    }
   },
   "cell_type": "code",
   "source": [
    "from pykeen.evaluation import RankBasedEvaluator\n",
    "\n",
    "# Create an evaluator\n",
    "evaluator = RankBasedEvaluator()\n",
    "\n",
    "# Evaluate the model\n",
    "metrics = evaluator.evaluate(result.model, testing.mapped_triples, additional_filter_triples=[training.mapped_triples, validation.mapped_triples])\n",
    "\n",
    "# Print the metrics\n",
    "print(f\"Hits@1: {metrics.get_metric('hits@1')}\")\n",
    "print(f\"Hits@3: {metrics.get_metric('hits@3')}\")\n",
    "print(f\"Hits@5: {metrics.get_metric('hits@5')}\")\n",
    "print(f\"Hits@10: {metrics.get_metric('hits@10')}\")\n",
    "print(f\"Mean Reciprocal Rank: {metrics.get_metric('mean_reciprocal_rank')}\")"
   ],
   "id": "f4ad2fe88b4cbf41",
   "outputs": [
    {
     "data": {
      "text/plain": [
       "Evaluating on cpu:   0%|          | 0.00/11.0 [00:00<?, ?triple/s]"
      ],
      "application/vnd.jupyter.widget-view+json": {
       "version_major": 2,
       "version_minor": 0,
       "model_id": "bb69288f0bd64e2aa49c4af8a5f24285"
      }
     },
     "metadata": {},
     "output_type": "display_data"
    },
    {
     "name": "stderr",
     "output_type": "stream",
     "text": [
      "WARNING:torch_max_mem.api:Encountered tensors on device_types={'cpu'} while only ['cuda'] are considered safe for automatic memory utilization maximization. This may lead to undocumented crashes (but can be safe, too).\n",
      "INFO:pykeen.evaluation.evaluator:Evaluation took 0.06s seconds\n"
     ]
    },
    {
     "name": "stdout",
     "output_type": "stream",
     "text": [
      "Hits@1: 1.0\n",
      "Hits@3: 1.0\n",
      "Hits@5: 1.0\n",
      "Hits@10: 1.0\n",
      "Mean Reciprocal Rank: 1.0\n"
     ]
    }
   ],
   "execution_count": 4
  },
  {
   "metadata": {
    "ExecuteTime": {
     "end_time": "2024-10-12T16:46:03.106585Z",
     "start_time": "2024-10-12T16:46:02.071971Z"
    }
   },
   "cell_type": "code",
   "source": [
    "import numpy as np\n",
    "import matplotlib.pyplot as plt\n",
    "from sklearn.decomposition import PCA\n",
    "\n",
    "plt.figure(figsize=(6, 6))\n",
    "pca = PCA(n_components=2)\n",
    "entity_embeddings = model.entity_representations[0](indices=None).detach().numpy()\n",
    "m = pca.fit(entity_embeddings)\n",
    "\n",
    "eu = m.transform(entity_embeddings)\n",
    "# plt.plot(eu[:, 0], eu[:, 1],'.b')\n",
    "for i, entity in enumerate(triples_factory.entity_id_to_label):\n",
    "    plt.annotate(\n",
    "        text=id_to_entity[entity],\n",
    "        xy=(eu[i, 0], eu[i, 1]),\n",
    "        color=\"tab:blue\",\n",
    "        ha=\"center\", va=\"center\"\n",
    "    )\n",
    "\n",
    "    \n",
    "relation_embeddings = model.relation_representations[0](indices=None).detach().numpy()\n",
    "ru = pca.transform(relation_embeddings)\n",
    "for i, relation in enumerate(triples_factory.relation_id_to_label):\n",
    "    plt.annotate(\n",
    "        text=id_to_relation[relation],\n",
    "        xy=(0,0), xytext=(ru[i, 0], ru[i, 1]),\n",
    "        arrowprops=dict(\n",
    "            arrowstyle=\"<-\",\n",
    "            color=\"tab:red\",\n",
    "            shrinkA=5,\n",
    "            shrinkB=5,\n",
    "            patchA=None,\n",
    "            patchB=None,\n",
    "            connectionstyle=\"arc3,rad=0.\"\n",
    "        )\n",
    "    )\n",
    "\n",
    "plt.xlim([-2, 2])\n",
    "plt.ylim([-1, 1])"
   ],
   "id": "33c4a6ce3cb8ad7b",
   "outputs": [
    {
     "data": {
      "text/plain": [
       "(-1.0, 1.0)"
      ]
     },
     "execution_count": 5,
     "metadata": {},
     "output_type": "execute_result"
    },
    {
     "data": {
      "text/plain": [
       "<Figure size 600x600 with 1 Axes>"
      ],
      "image/png": "[encoded data removed]"
     },
     "metadata": {},
     "output_type": "display_data"
    }
   ],
   "execution_count": 5
  }
 ],
 "metadata": {
  "kernelspec": {
   "display_name": "Python 3",
   "language": "python",
   "name": "python3"
  },
  "language_info": {
   "codemirror_mode": {
    "name": "ipython",
    "version": 2
   },
   "file_extension": ".py",
   "mimetype": "text/x-python",
   "name": "python",
   "nbconvert_exporter": "python",
   "pygments_lexer": "ipython2",
   "version": "2.7.6"
  }
 },
 "nbformat": 4,
 "nbformat_minor": 5
}
